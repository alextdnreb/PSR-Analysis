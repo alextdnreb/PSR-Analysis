{
 "cells": [
  {
   "attachments": {},
   "cell_type": "markdown",
   "metadata": {},
   "source": [
    "# Load Data"
   ]
  },
  {
   "cell_type": "code",
   "execution_count": null,
   "metadata": {},
   "outputs": [],
   "source": [
    "import pandas as pd\n",
    "import numpy as np\n",
    "\n",
    "df = pd.read_json(\"channel-infos-1680164027.541952.json\")\n",
    "\n",
    "preprocessed_df = pd.DataFrame(columns=[\"channelName\", \"viewCount\", \"videoCount\"])\n",
    "#  print(df)\n",
    "for i, row in df.iterrows():\n",
    "    viewCount = row[\"statistics\"][\"viewCount\"]\n",
    "    videoCount = row[\"statistics\"][\"videoCount\"]\n",
    "    channelName = row[\"snippet\"][\"customUrl\"]\n",
    "    df_row = pd.DataFrame({\"channelName\": [channelName], \"viewCount\": [viewCount], \"videoCount\": [videoCount]})\n",
    "    preprocessed_df = pd.concat([preprocessed_df, df_row])\n",
    "preprocessed_df.drop_duplicates(inplace=True)\n",
    "preprocessed_df.reset_index(inplace=True, drop=True)\n",
    "preprocessed_df[\"videoCount\"] = preprocessed_df[\"videoCount\"].astype(int)\n",
    "print(preprocessed_df.sort_values(by=[\"videoCount\"]).head(10))"
   ]
  },
  {
   "attachments": {},
   "cell_type": "markdown",
   "metadata": {},
   "source": [
    "# Normalize and Sort"
   ]
  },
  {
   "cell_type": "code",
   "execution_count": null,
   "metadata": {},
   "outputs": [],
   "source": [
    "from sklearn.preprocessing import MinMaxScaler\n",
    "\n",
    "scaler = MinMaxScaler()\n",
    "\n",
    "normalized_df = preprocessed_df.copy(deep=True)\n",
    "# print(scaler.fit_transform(scaled_df[\"viewCount\"]))\n",
    "normalized_df[[\"viewCount\", \"videoCount\"]] = scaler.fit_transform(normalized_df[[\"viewCount\", \"videoCount\"]])\n",
    "\n",
    "normalized_df[\"sum_scaled\"] = normalized_df[\"viewCount\"] + normalized_df[\"videoCount\"]\n",
    "# scaled_df[\"videoCount_scaled\"] = scaler.fit_transform(scaled_df[\"videoCount\"])\n",
    "\n",
    "print(normalized_df.sort_values(by=[\"sum_scaled\"]).head(10))\n",
    "\n",
    "normalized_df.sort_values(by=[\"sum_scaled\"]).head(10).to_csv(\"ten_channels.csv\", index=False)"
   ]
  }
 ],
 "metadata": {
  "kernelspec": {
   "display_name": "Python 3",
   "language": "python",
   "name": "python3"
  },
  "language_info": {
   "codemirror_mode": {
    "name": "ipython",
    "version": 3
   },
   "file_extension": ".py",
   "mimetype": "text/x-python",
   "name": "python",
   "nbconvert_exporter": "python",
   "pygments_lexer": "ipython3",
   "version": "3.9.13"
  },
  "orig_nbformat": 4
 },
 "nbformat": 4,
 "nbformat_minor": 2
}
